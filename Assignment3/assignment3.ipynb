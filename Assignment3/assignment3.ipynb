{
 "cells": [
  {
   "cell_type": "code",
   "execution_count": 13,
   "id": "bb440243-b117-4ffd-8a03-bdb85a6e4308",
   "metadata": {},
   "outputs": [
    {
     "name": "stdout",
     "output_type": "stream",
     "text": [
      "0179\n",
      "0269\n",
      "0359\n",
      "1259\n",
      "1349\n"
     ]
    }
   ],
   "source": [
    "for num in range(0000,9999):\n",
    "    strnum = f\"{num:04d}\"\n",
    "    n1 = int(strnum[0])\n",
    "    n2 = int(strnum[1])\n",
    "    n3 = int(strnum[2])\n",
    "    n4 = int(strnum[3])\n",
    "    if ((n1<n2<n3<n4) and (n4 == 9) and (n1+n2+n3 == 8)):\n",
    "       print(strnum)\n",
    "    \n",
    "    "
   ]
  },
  {
   "cell_type": "code",
   "execution_count": 7,
   "id": "51f2c73e-de88-4a30-b5ce-726713add275",
   "metadata": {},
   "outputs": [
    {
     "data": {
      "text/plain": [
       "'/Users/durgaprasad/Desktop/PythonCore/Assignment3'"
      ]
     },
     "execution_count": 7,
     "metadata": {},
     "output_type": "execute_result"
    }
   ],
   "source": [
    "pwd"
   ]
  },
  {
   "cell_type": "code",
   "execution_count": null,
   "id": "497ef1c8-9bfa-49eb-b782-0e98ea3048fb",
   "metadata": {},
   "outputs": [],
   "source": []
  }
 ],
 "metadata": {
  "kernelspec": {
   "display_name": "assignment1env",
   "language": "python",
   "name": "assignment1"
  },
  "language_info": {
   "codemirror_mode": {
    "name": "ipython",
    "version": 3
   },
   "file_extension": ".py",
   "mimetype": "text/x-python",
   "name": "python",
   "nbconvert_exporter": "python",
   "pygments_lexer": "ipython3",
   "version": "3.10.12"
  }
 },
 "nbformat": 4,
 "nbformat_minor": 5
}
