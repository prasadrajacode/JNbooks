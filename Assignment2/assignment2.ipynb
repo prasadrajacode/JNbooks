{
 "cells": [
  {
   "cell_type": "code",
   "execution_count": null,
   "id": "bb440243-b117-4ffd-8a03-bdb85a6e4308",
   "metadata": {},
   "outputs": [],
   "source": [
    "print('Enter your phone number:')\n",
    "phNumber = input()\n",
    "def sumFn(phNumber):\n",
    "    sum = 0\n",
    "    for x in range(0, len(phNumber)):\n",
    "        sum = sum + int(phNumber[x])\n",
    "    print(f\"sum of the digits is {sum}\")    \n",
    "    if len(str(sum)) == 1:\n",
    "        print(f\"final sum is {sum}\")\n",
    "    else:\n",
    "        sumFn(str(sum))\n",
    "\n",
    "sumFn(phNumber)"
   ]
  },
  {
   "cell_type": "code",
   "execution_count": null,
   "id": "5c0e2c81-c8d2-4602-b6e4-4b7129489e98",
   "metadata": {},
   "outputs": [],
   "source": []
  }
 ],
 "metadata": {
  "kernelspec": {
   "display_name": "assignment1env",
   "language": "python",
   "name": "assignment1"
  },
  "language_info": {
   "codemirror_mode": {
    "name": "ipython",
    "version": 3
   },
   "file_extension": ".py",
   "mimetype": "text/x-python",
   "name": "python",
   "nbconvert_exporter": "python",
   "pygments_lexer": "ipython3",
   "version": "3.10.12"
  }
 },
 "nbformat": 4,
 "nbformat_minor": 5
}
