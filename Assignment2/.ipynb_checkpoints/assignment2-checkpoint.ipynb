{
 "cells": [
  {
   "cell_type": "code",
   "execution_count": 1,
   "id": "50ed1f47-248c-440c-9249-b0bff31b8fd3",
   "metadata": {},
   "outputs": [
    {
     "name": "stdin",
     "output_type": "stream",
     "text": [
      "Enter your weight (in kgs) 65\n"
     ]
    },
    {
     "name": "stdout",
     "output_type": "stream",
     "text": [
      "Username entered weight is 65.0 Kgs\n"
     ]
    }
   ],
   "source": [
    "userWeight,userHeight,BMI = 0,0,0 \n",
    "userWeight = float(input(\"Enter your weight (in kgs)\"))\n",
    "print(f\"Username entered weight is {userWeight} Kgs\")"
   ]
  },
  {
   "cell_type": "code",
   "execution_count": 2,
   "id": "aeb60f7e-877a-4be5-9b80-6fa6f4a46344",
   "metadata": {},
   "outputs": [
    {
     "name": "stdin",
     "output_type": "stream",
     "text": [
      "What is your prefered unit of height ? Type F for feet and M for meters F\n"
     ]
    },
    {
     "name": "stdout",
     "output_type": "stream",
     "text": [
      "User prefered unit of height is Feet\n"
     ]
    }
   ],
   "source": [
    "userPrefHeight = input(\"What is your prefered unit of height ? Type F for feet and M for meters\")\n",
    "if userPrefHeight == 'F':\n",
    "  print(f\"User prefered unit of height is Feet\") \n",
    "elif userPrefHeight == 'M':\n",
    "  print(f\"User prefered unit of height is Meters\") \n",
    "else:\n",
    "  print(\"Please select either F or M\")"
   ]
  },
  {
   "cell_type": "code",
   "execution_count": 3,
   "id": "99e7fcdb-7f53-4efb-a84d-1a05901b0afa",
   "metadata": {},
   "outputs": [
    {
     "name": "stdin",
     "output_type": "stream",
     "text": [
      "Enter your Height in Feet 5.7\n"
     ]
    },
    {
     "name": "stdout",
     "output_type": "stream",
     "text": [
      "User height in meters is 1.7373600000000002\n"
     ]
    }
   ],
   "source": [
    "if userPrefHeight == 'F':\n",
    "  userHeight = float(input(\"Enter your Height in Feet\"))\n",
    "  userHeight = userHeight*0.3048  \n",
    "elif userPrefHeight == 'M':\n",
    "  userHeight = input(\"Enter your Height in Meters\")\n",
    "else:\n",
    "  print(\"Please select either F or M\")\n",
    "print(f\"User height in meters is {userHeight}\")    "
   ]
  },
  {
   "cell_type": "code",
   "execution_count": 4,
   "id": "6c9ecf91-efff-48f7-80a4-79a7c0f4abb5",
   "metadata": {},
   "outputs": [
    {
     "name": "stdout",
     "output_type": "stream",
     "text": [
      "BMI is 21.534446817055457 and u are NORMAL\n"
     ]
    }
   ],
   "source": [
    "BMI= userWeight/(userHeight*userHeight)\n",
    "if BMI < 18.5 : \n",
    "  print(f\"BMI is {BMI} and u are UNDERWEIGHT\")\n",
    "elif BMI >= 18.5 and BMI < 25 :\n",
    "  print(f\"BMI is {BMI} and u are NORMAL\")\n",
    "elif BMI >= 25 and BMI < 30 :\n",
    "  print(f\"BMI is {BMI} and u are OVERWEIGHT\")\n",
    "else :\n",
    " print(f\"BMI is {BMI} and u are VERY-OVERWEIGHT\")"
   ]
  },
  {
   "cell_type": "code",
   "execution_count": null,
   "id": "71fa20d8-f065-48e1-9892-a3e947a267d7",
   "metadata": {},
   "outputs": [],
   "source": []
  }
 ],
 "metadata": {
  "kernelspec": {
   "display_name": "assignment1env",
   "language": "python",
   "name": "assignment1"
  },
  "language_info": {
   "codemirror_mode": {
    "name": "ipython",
    "version": 3
   },
   "file_extension": ".py",
   "mimetype": "text/x-python",
   "name": "python",
   "nbconvert_exporter": "python",
   "pygments_lexer": "ipython3",
   "version": "3.10.12"
  }
 },
 "nbformat": 4,
 "nbformat_minor": 5
}
